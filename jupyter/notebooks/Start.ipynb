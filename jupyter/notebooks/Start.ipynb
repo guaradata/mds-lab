{
 "cells": [
  {
   "cell_type": "code",
   "execution_count": 1,
   "id": "9445a434-4a04-4074-a3cc-742a0c563401",
   "metadata": {},
   "outputs": [
    {
     "name": "stdout",
     "output_type": "stream",
     "text": [
      "fs.s3a.endpoint: http://minio:9000\n",
      "fs.s3a.access.key: accesskey\n",
      "fs.s3a.secret.key: secretkey\n",
      "fs.s3a.path.style.access: true\n"
     ]
    }
   ],
   "source": [
    "from pyspark.sql import SparkSession\n",
    "from pyspark.sql.functions import *\n",
    "from pyspark.sql.types import *\n",
    "from spark_fs import init_spark_utils\n",
    "from spark_init import create_spark_session\n",
    "\n",
    "spark = create_spark_session(\"MinioDataLake\")\n",
    "utils = init_spark_utils(spark)\n",
    "\n",
    "hadoop_conf = spark._jsc.hadoopConfiguration()\n",
    "print(\"fs.s3a.endpoint:\", hadoop_conf.get(\"fs.s3a.endpoint\"))\n",
    "print(\"fs.s3a.access.key:\", hadoop_conf.get(\"fs.s3a.access.key\"))\n",
    "print(\"fs.s3a.secret.key:\", hadoop_conf.get(\"fs.s3a.secret.key\"))\n",
    "print(\"fs.s3a.path.style.access:\", hadoop_conf.get(\"fs.s3a.path.style.access\"))"
   ]
  },
  {
   "cell_type": "code",
   "execution_count": 2,
   "id": "b141a87f-32d5-4825-a902-14ce6cdfe7b8",
   "metadata": {},
   "outputs": [
    {
     "name": "stdout",
     "output_type": "stream",
     "text": [
      "+------------+\n",
      "|   namespace|\n",
      "+------------+\n",
      "|     default|\n",
      "|  sb_digital|\n",
      "|warehouse_db|\n",
      "+------------+\n",
      "\n"
     ]
    }
   ],
   "source": [
    "spark.sql(\"SHOW DATABASES\").show()"
   ]
  },
  {
   "cell_type": "code",
   "execution_count": 3,
   "id": "e32c0473-05af-43cd-b66b-b121bf23e4bd",
   "metadata": {},
   "outputs": [
    {
     "name": "stdout",
     "output_type": "stream",
     "text": [
      "+------------+\n",
      "|   namespace|\n",
      "+------------+\n",
      "|     default|\n",
      "|warehouse_db|\n",
      "+------------+\n",
      "\n"
     ]
    },
    {
     "data": {
      "text/plain": [
       "DataFrame[]"
      ]
     },
     "execution_count": 3,
     "metadata": {},
     "output_type": "execute_result"
    }
   ],
   "source": [
    "# Criar e verificar uma tabela teste\n",
    "spark.sql(\"CREATE DATABASE IF NOT EXISTS warehouse_db\")\n",
    "spark.sql(\"SHOW DATABASES\").show()\n",
    "spark.sql(\"USE warehouse_db\")"
   ]
  },
  {
   "cell_type": "code",
   "execution_count": 3,
   "id": "b1a5b579-35e0-4389-985d-e5848707bbc0",
   "metadata": {},
   "outputs": [
    {
     "name": "stdout",
     "output_type": "stream",
     "text": [
      "+------------+---------+-----------+\n",
      "|   namespace|tableName|isTemporary|\n",
      "+------------+---------+-----------+\n",
      "|warehouse_db|new_table|      false|\n",
      "+------------+---------+-----------+\n",
      "\n"
     ]
    }
   ],
   "source": [
    "spark.sql(\"USE warehouse_db\")\n",
    "spark.sql(\"SHOW TABLES\").show()"
   ]
  },
  {
   "cell_type": "code",
   "execution_count": null,
   "id": "f22e5b65-d7fa-45ff-87e3-919c05af6217",
   "metadata": {},
   "outputs": [],
   "source": [
    "data = [\n",
    "    {\"first_name\": \"bob\", \"age\": 47},\n",
    "    {\"first_name\": \"li\", \"age\": 23},\n",
    "    {\"first_name\": \"leah\", \"age\": 51},\n",
    "    {\"first_name\": \"ivan\", \"age\": 30},\n",
    "]\n",
    "df = spark.createDataFrame(data=data)\n",
    "df.show()"
   ]
  },
  {
   "cell_type": "code",
   "execution_count": null,
   "id": "f7a84d0a-758f-43e1-9099-a874f8b04dc8",
   "metadata": {},
   "outputs": [],
   "source": [
    "df.write.format(\"delta\").mode(\"overwrite\").option(\"overwriteSchema\", \"true\").saveAsTable(\"new_table\")"
   ]
  },
  {
   "cell_type": "code",
   "execution_count": 3,
   "id": "c1155a6e-5378-45dd-b3d3-8565b18e570e",
   "metadata": {},
   "outputs": [
    {
     "name": "stdout",
     "output_type": "stream",
     "text": [
      "+---+----------+\n",
      "|age|first_name|\n",
      "+---+----------+\n",
      "| 51|      leah|\n",
      "| 30|      ivan|\n",
      "| 47|       bob|\n",
      "| 23|        li|\n",
      "+---+----------+\n",
      "\n"
     ]
    }
   ],
   "source": [
    "df = spark.read.parquet(\"s3a://wba/warehouse/warehouse_db.db/new_table\")\n",
    "df.show()"
   ]
  },
  {
   "cell_type": "code",
   "execution_count": 4,
   "id": "3ed82203-aa67-4d30-8328-8286fd697091",
   "metadata": {},
   "outputs": [
    {
     "data": {
      "text/plain": [
       "[Database(name='default', catalog='spark_catalog', description='Default Hive database', locationUri='s3a://wba/warehouse'),\n",
       " Database(name='sb_digital', catalog='spark_catalog', description='', locationUri='s3a://wba/warehouse/sb_digital.db'),\n",
       " Database(name='warehouse_db', catalog='spark_catalog', description='', locationUri='s3a://wba/warehouse/warehouse_db.db')]"
      ]
     },
     "execution_count": 4,
     "metadata": {},
     "output_type": "execute_result"
    }
   ],
   "source": [
    "spark.catalog.listDatabases()"
   ]
  }
 ],
 "metadata": {
  "kernelspec": {
   "display_name": "Python 3 (ipykernel)",
   "language": "python",
   "name": "python3"
  },
  "language_info": {
   "codemirror_mode": {
    "name": "ipython",
    "version": 3
   },
   "file_extension": ".py",
   "mimetype": "text/x-python",
   "name": "python",
   "nbconvert_exporter": "python",
   "pygments_lexer": "ipython3",
   "version": "3.11.6"
  }
 },
 "nbformat": 4,
 "nbformat_minor": 5
}
